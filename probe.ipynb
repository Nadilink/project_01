{
  "nbformat": 4,
  "nbformat_minor": 0,
  "metadata": {
    "colab": {
      "provenance": [],
      "authorship_tag": "ABX9TyPuurRdmvS3lSM2jmCfUH8J",
      "include_colab_link": true
    },
    "kernelspec": {
      "name": "python3",
      "display_name": "Python 3"
    },
    "language_info": {
      "name": "python"
    }
  },
  "cells": [
    {
      "cell_type": "markdown",
      "metadata": {
        "id": "view-in-github",
        "colab_type": "text"
      },
      "source": [
        "<a href=\"https://colab.research.google.com/github/Nadilink/project_01/blob/main/probe.ipynb\" target=\"_parent\"><img src=\"https://colab.research.google.com/assets/colab-badge.svg\" alt=\"Open In Colab\"/></a>"
      ]
    },
    {
      "cell_type": "code",
      "source": [
        "import sqlite3\n",
        "\n",
        "connection = sqlite3.connect('teatchers.db')\n",
        "cursor = connection.cursor()\n",
        "query = \"\"\"CREATE TABLE School \n",
        "(\n",
        "School_Id INTEGER NOT NULL PRIMARY KEY,\n",
        "School_Name TEXT NOT NULL,\n",
        "Place_Count INTEGER NOT NULL\n",
        ");\n",
        "\"\"\"\n",
        "cursor.execute(query)\n",
        "connection.commit()\n",
        "connection.close()\n",
        "\n",
        "\n",
        "\n",
        "\n"
      ],
      "metadata": {
        "id": "LOLCQdL2qJ-W"
      },
      "execution_count": 195,
      "outputs": []
    },
    {
      "cell_type": "code",
      "source": [
        "import sqlite3\n",
        "\n",
        "connection = sqlite3.connect('teatchers.db')\n",
        "cursor = connection.cursor()\n",
        "query = \"\"\"INSERT INTO School (School_Id, School_Name, Place_Count)\n",
        "VALUES\n",
        "('1', 'Протон', 200),\n",
        "('2', 'Преспектива', 300),\n",
        "('3', 'Спектр', 400),\n",
        "('4', 'Содружество', 500);\n",
        "\"\"\"\n",
        "cursor.execute(query)\n",
        "connection.commit()\n",
        "connection.close()"
      ],
      "metadata": {
        "id": "SeqMvPqcvNm2"
      },
      "execution_count": 196,
      "outputs": []
    },
    {
      "cell_type": "code",
      "source": [
        "import sqlite3\n",
        "connection = sqlite3.connect('teatchers.db')\n",
        "cursor = connection.cursor()\n",
        "query = \"\"\"CREATE TABLE Teatcher (\n",
        "Teatcher_Id INTEGER NOT NULL PRIMARY KEY,\n",
        "Teatcher_Name TEXT NOT NULL,\n",
        "School_Id INTEGER NOT NULL,\n",
        "Joining_Date TEXT NOT NULL,\n",
        "Speciality TEXT NOT NULL,\n",
        "Salary INTEGER NOT NULL,\n",
        "Experience INTEGER\n",
        ");\n",
        "\"\"\"\n",
        "cursor.execute(query)\n",
        "connection.commit()\n",
        "connection.close()"
      ],
      "metadata": {
        "id": "KD6czkTbwGU9"
      },
      "execution_count": 197,
      "outputs": []
    },
    {
      "cell_type": "code",
      "source": [
        "import sqlite3\n",
        "connection = sqlite3.connect('teatchers.db')\n",
        "cursor = connection.cursor()\n",
        "query = \"\"\"INSERT INTO Teatcher (Teatcher_Id, Teatcher_Name, School_Id,\n",
        "Joining_Date, Speciality, Salary, Experience)\n",
        "VALUES\n",
        "('101', 'Галина', '1', '2021-2-10', 'Физик', '40000', NULL),\n",
        "('102', 'Мария', '1', '2018-07-23', 'Химик', '20000', NULL),\n",
        "('103', 'Ольга', '2', '2022-05-19', 'Информатик', '25000', NULL),\n",
        "('104', 'Полина', '2', '2017-12-28', 'Физик ', '28000', NULL),\n",
        "('105', 'Лидия', '3', '2015-06-04', 'Информатик', '42000',\n",
        "NULL),\n",
        "('106', 'Анастасия', '3', '2019-09-11', 'Учитель трудов', '30000',\n",
        "NULL),\n",
        "('107', 'Ирина', '4', '2020-08-21', 'Информатик', '32000',\n",
        "NULL),\n",
        "('108', 'Виктория', '4', '2017-10-17', 'Географ', '30000', NULL);\n",
        "\"\"\"\n",
        "cursor.execute(query)\n",
        "connection.commit()\n",
        "connection.close()"
      ],
      "metadata": {
        "id": "Z_gtNmqWwIvN"
      },
      "execution_count": 198,
      "outputs": []
    },
    {
      "cell_type": "code",
      "source": [
        "import sqlite3\n",
        "\n",
        "connection = sqlite3.connect('teatchers.db')\n",
        "cursor = connection.cursor()\n",
        "query = \"SELECT * FROM Teatcher;\"\n",
        "cursor.execute(query)\n",
        "record = cursor.fetchall()\n",
        "connection.close()\n",
        "print(record)"
      ],
      "metadata": {
        "colab": {
          "base_uri": "https://localhost:8080/"
        },
        "id": "mUl-lw4owT_l",
        "outputId": "b4c1d25c-da1b-4c64-ea1d-e9ccece676f8"
      },
      "execution_count": 199,
      "outputs": [
        {
          "output_type": "stream",
          "name": "stdout",
          "text": [
            "[(101, 'Галина', 1, '2021-2-10', 'Физик', 40000, None), (102, 'Мария', 1, '2018-07-23', 'Химик', 20000, None), (103, 'Ольга', 2, '2022-05-19', 'Информатик', 25000, None), (104, 'Полина', 2, '2017-12-28', 'Физик ', 28000, None), (105, 'Лидия', 3, '2015-06-04', 'Информатик', 42000, None), (106, 'Анастасия', 3, '2019-09-11', 'Учитель трудов', 30000, None), (107, 'Ирина', 4, '2020-08-21', 'Информатик', 32000, None), (108, 'Виктория', 4, '2017-10-17', 'Географ', 30000, None)]\n"
          ]
        }
      ]
    },
    {
      "cell_type": "code",
      "source": [
        "import sqlite3\n",
        "\n",
        "def get_connection():\n",
        "  connection = sqlite3.connect('teatchers.db')\n",
        "  return connection\n",
        "\n",
        "def close_connection(connection):\n",
        "  if connection:\n",
        "    connection.close()\n",
        "    \n",
        "def read_db():\n",
        "  try:\n",
        "    connection = get_connection()\n",
        "    cursor = connection.cursor()\n",
        "    query = (\"SELECT sqlite_version();\")\n",
        "    cursor.execute(query)\n",
        "    version = cursor.fetchone()\n",
        "    print (\"вы подключились к версии \", version)\n",
        "    close_connection(connection)\n",
        "  except (Exception, sqlite3.Error) as error:\n",
        "    print(\"Ошибка в получении данных \", error)\n",
        "\n",
        "print(\"Задача 2 Версия БД\")\n",
        "read_db()"
      ],
      "metadata": {
        "colab": {
          "base_uri": "https://localhost:8080/"
        },
        "id": "Gum00dV9wacM",
        "outputId": "938ddba6-8648-411f-8648-b79de61a1bf2"
      },
      "execution_count": 200,
      "outputs": [
        {
          "output_type": "stream",
          "name": "stdout",
          "text": [
            "Задача 2 Версия БД\n",
            "вы подключились к версии  ('3.22.0',)\n"
          ]
        }
      ]
    },
    {
      "cell_type": "code",
      "source": [
        "import sqlite3\n",
        "\n",
        "def get_connection():\n",
        "  connection = sqlite3.connect('teatchers.db')\n",
        "  return connection\n",
        "\n",
        "def close_connection(connection):\n",
        "  if connection:\n",
        "    connection.close()\n",
        "    \n",
        "def insert_experience():\n",
        "  try:\n",
        "    connection = get_connection()\n",
        "    cursor = connection.cursor()\n",
        "    update_query = (\"UPDATE Teatcher SET Experience = 5 WHERE Experience IS NULL\")\n",
        "    cursor.execute(update_query)\n",
        "    connection.commit()\n",
        "    connection.close()\n",
        "\n",
        "  except (Exception, sqlite3.Error) as error:\n",
        "    print(\"Ошибка в получении данных \", error)\n",
        "\n",
        "print(\"Задача 3 Апдейт опыта работы\")\n",
        "insert_experience\n",
        "print(\"Опыт обновлен\")"
      ],
      "metadata": {
        "colab": {
          "base_uri": "https://localhost:8080/"
        },
        "id": "XN5I56ViwmRl",
        "outputId": "8fd4aa2c-39a8-4e8d-b957-2cd806070415"
      },
      "execution_count": 201,
      "outputs": [
        {
          "output_type": "stream",
          "name": "stdout",
          "text": [
            "Задача 3 Апдейт опыта работы\n",
            "Опыт обновлен\n"
          ]
        }
      ]
    },
    {
      "cell_type": "code",
      "source": [
        "import sqlite3\n",
        "\n",
        "def get_connection():\n",
        "  connection = sqlite3.connect('teatchers.db')\n",
        "  return connection\n",
        "\n",
        "def close_connection(connection):\n",
        "  if connection:\n",
        "    connection.close()\n",
        "    \n",
        "def get_school_detail(school_id):\n",
        "  try:\n",
        "    connection = get_connection()\n",
        "    cursor = connection.cursor()\n",
        "    select_query = \"\"\"SELECT * FROM School WHERE School_id = ?\"\"\"\n",
        "    cursor.execute(select_query, (school_id,))\n",
        "    records = cursor.fetchall()\n",
        "    print (\"Данные по школе\")\n",
        "    for row in records:\n",
        "      print(\"ID школы\", row[0])\n",
        "      print(\"Название школы\", row[1])\n",
        "      print('Количество мест', row[2])\n",
        "    close_connection(connection)\n",
        "  except (Exception, sqlite3.Error) as error:\n",
        "    print(\"Ошибка в получении данных по школе \", error)\n",
        "\n",
        "def get_teatcher_detail(teatcher_id):\n",
        "  try:\n",
        "    connection = get_connection()\n",
        "    cursor = connection.cursor()\n",
        "    select_query = \"\"\"SELECT * FROM Teatcher WHERE Teatcher_id = ?\"\"\"\n",
        "    cursor.execute(select_query, (teatcher_id,))\n",
        "    records = cursor.fetchall()\n",
        "    print (\"Данные по учителю\")\n",
        "    for row in records:\n",
        "      print(\"ID учителя\", row[0])\n",
        "      print(\"Имя учителя\", row[1])\n",
        "      print('ID школы', row[2])\n",
        "      print(\"Дата начала работы\", row[3])\n",
        "      print(\"Специализация\", row[4])\n",
        "      print('Зарплата', row[5])\n",
        "      print(\"Опыт работы\", row[6])\n",
        "    close_connection(connection)\n",
        "  except (Exception, sqlite3.Error) as error:\n",
        "    print(\"Ошибка в получении данных по школе \", error)\n",
        "\n",
        "print(\"Задача 4 Данные по учителю и школе\")\n",
        "get_school_detail(1)\n",
        "print(\"\\n\")\n",
        "get_teatcher_detail(107)"
      ],
      "metadata": {
        "colab": {
          "base_uri": "https://localhost:8080/"
        },
        "id": "_j2F3R7twuUF",
        "outputId": "ea89a7e8-96a7-4934-9962-75829d7ba563"
      },
      "execution_count": 202,
      "outputs": [
        {
          "output_type": "stream",
          "name": "stdout",
          "text": [
            "Задача 4 Данные по учителю и школе\n",
            "Данные по школе\n",
            "ID школы 1\n",
            "Название школы Протон\n",
            "Количество мест 200\n",
            "\n",
            "\n",
            "Данные по учителю\n",
            "ID учителя 107\n",
            "Имя учителя Ирина\n",
            "ID школы 4\n",
            "Дата начала работы 2020-08-21\n",
            "Специализация Информатик\n",
            "Зарплата 32000\n",
            "Опыт работы None\n"
          ]
        }
      ]
    },
    {
      "cell_type": "code",
      "source": [
        "import sqlite3\n",
        "\n",
        "def get_connection():\n",
        "  connection = sqlite3.connect('teatchers.db')\n",
        "  return connection\n",
        "\n",
        "def close_connection(connection):\n",
        "  if connection:\n",
        "    connection.close()\n",
        "def get_teatchers_list(speciality, salary):\n",
        "  try:\n",
        "    connection = get_connection()\n",
        "    cursor = connection.cursor()\n",
        "    select_query = \"\"\"SELECT * FROM Teatcher WHERE Speciality = ? AND Salary > ?\"\"\"\n",
        "    cursor.execute(select_query, (speciality, salary))\n",
        "    records = cursor.fetchall()\n",
        "    print (\"Учитель со специальностью\", speciality, \"и зарплатой больше \", salary)\n",
        "    for row in records:\n",
        "      print(\"ID учителя\", row[0])\n",
        "      print(\"Имя учителя\", row[1])\n",
        "      print('ID школы', row[2])\n",
        "      print(\"Дата начала работы\", row[3])\n",
        "      print(\"Специализация\", row[4])\n",
        "      print('Зарплата', row[5])\n",
        "      print(\"Опыт работы\", row[6], \"\\n\")\n",
        "    close_connection(connection)\n",
        "  except (Exception, sqlite3.Error) as error:\n",
        "    print(\"Ошибка в получении данных по школе \", error)\n",
        "\n",
        "print(\"Задача 5 Список учителей \\n\")\n",
        "get_teatchers_list('Физик', 30000)"
      ],
      "metadata": {
        "colab": {
          "base_uri": "https://localhost:8080/"
        },
        "id": "zm6cyfWtw4at",
        "outputId": "0b5ea814-eec3-4f72-ccd3-a3cebaed45e8"
      },
      "execution_count": 203,
      "outputs": [
        {
          "output_type": "stream",
          "name": "stdout",
          "text": [
            "Задача 5 Список учителей \n",
            "\n",
            "Учитель со специальностью Физик и зарплатой больше  30000\n",
            "ID учителя 101\n",
            "Имя учителя Галина\n",
            "ID школы 1\n",
            "Дата начала работы 2021-2-10\n",
            "Специализация Физик\n",
            "Зарплата 40000\n",
            "Опыт работы None \n",
            "\n"
          ]
        }
      ]
    },
    {
      "cell_type": "code",
      "source": [
        "import sqlite3\n",
        "\n",
        "def get_connection():\n",
        "  connection = sqlite3.connect('teatchers.db')\n",
        "  return connection\n",
        "\n",
        "def close_connection(connection):\n",
        "  if connection:\n",
        "    connection.close()\n",
        "\n",
        "def get_school_name(school_id):\n",
        "  try:\n",
        "    connection = get_connection()\n",
        "    cursor = connection.cursor()\n",
        "    select_query = \"\"\"SELECT * FROM School WHERE School_id = ?\"\"\"\n",
        "    cursor.execute(select_query, (school_id,))\n",
        "    record = cursor.fetchone()\n",
        "    close_connection(connection)\n",
        "    return record[1]\n",
        "  except (Exception, sqlite3.Error) as error:\n",
        "    print(\"Ошибка в получении данных по школе \", error)\n",
        "\n",
        "def get_teatcher(school_id):\n",
        "  try:\n",
        "    school_name = get_school_name(school_id)\n",
        "    connection = get_connection()\n",
        "    cursor = connection.cursor()\n",
        "    select_query = \"\"\"SELECT * FROM Teatcher WHERE School_id = ?\"\"\"\n",
        "    cursor.execute(select_query, (school_id,))\n",
        "    records = cursor.fetchall()\n",
        "\n",
        "    print (\"Учителя из школы \", school_name)\n",
        "    for row in records:\n",
        "      print(\"ID учителя\", row[0])\n",
        "      print(\"Имя учителя\", row[1])\n",
        "      print(\"ID школы\", row[2])\n",
        "      print(\"Название школы\", school_name)\n",
        "      print(\"Дата начала работы\", row[3])\n",
        "      print(\"Специализация\", row[4])\n",
        "      print(\"Зарплата\", row[5])\n",
        "      print(\"Опыт работы\", row[6], \"\\n\")\n",
        "    close_connection(connection)\n",
        "  except (Exception, sqlite3.Error) as error:\n",
        "    print(\"Ошибка в получении данных по школе \", error)\n",
        "\n",
        "print(\"Задача 6 \\n\")\n",
        "get_teatcher(1)\n",
        "\n",
        "\n",
        "\n"
      ],
      "metadata": {
        "colab": {
          "base_uri": "https://localhost:8080/"
        },
        "id": "X4mVAeEuxBEl",
        "outputId": "1c112877-9e58-4c6f-fcdf-bc14ee7f8abe"
      },
      "execution_count": 204,
      "outputs": [
        {
          "output_type": "stream",
          "name": "stdout",
          "text": [
            "Задача 6 \n",
            "\n",
            "Учителя из школы  Протон\n",
            "ID учителя 101\n",
            "Имя учителя Галина\n",
            "ID школы 1\n",
            "Название школы Протон\n",
            "Дата начала работы 2021-2-10\n",
            "Специализация Физик\n",
            "Зарплата 40000\n",
            "Опыт работы None \n",
            "\n",
            "ID учителя 102\n",
            "Имя учителя Мария\n",
            "ID школы 1\n",
            "Название школы Протон\n",
            "Дата начала работы 2018-07-23\n",
            "Специализация Химик\n",
            "Зарплата 20000\n",
            "Опыт работы None \n",
            "\n"
          ]
        }
      ]
    },
    {
      "cell_type": "code",
      "source": [
        "import sqlite3\n",
        "\n",
        "connection = sqlite3.connect('teatchers.db')\n",
        "cursor = connection.cursor()\n",
        "query = \"\"\"CREATE TABLE Student \n",
        "(\n",
        "Student_Id INTEGER NOT NULL PRIMARY KEY,\n",
        "Student_Name TEXT NOT NULL,\n",
        "School_Id INTEGER NOT NULL\n",
        ");\n",
        "\"\"\"\n",
        "cursor.execute(query)\n",
        "connection.commit()\n",
        "connection.close()"
      ],
      "metadata": {
        "id": "Q3wfFoMO2t4L"
      },
      "execution_count": 206,
      "outputs": []
    },
    {
      "cell_type": "code",
      "source": [
        "import sqlite3\n",
        "\n",
        "connection = sqlite3.connect('teatchers.db')\n",
        "cursor = connection.cursor()\n",
        "query = \"\"\"INSERT INTO Student (Student_Id, Student_Name, School_Id)\n",
        "VALUES\n",
        "('201', 'Иван', '1'),\n",
        "('202', 'Петр', '2'),\n",
        "('203', 'Анастасия', '3'),\n",
        "('204', 'Игорь', '4');\n",
        "\"\"\"\n",
        "cursor.execute(query)\n",
        "connection.commit()\n",
        "connection.close()"
      ],
      "metadata": {
        "id": "cOxoHNkz3Ytc"
      },
      "execution_count": 207,
      "outputs": []
    },
    {
      "cell_type": "code",
      "source": [
        "import sqlite3\n",
        "\n",
        "def get_connection():\n",
        "  connection = sqlite3.connect('teatchers.db')\n",
        "  return connection\n",
        "\n",
        "def close_connection(connection):\n",
        "  if connection:\n",
        "    connection.close()\n",
        "\n",
        "def get_school_name(school_id):\n",
        "  try:\n",
        "    connection = get_connection()\n",
        "    cursor = connection.cursor()\n",
        "    select_query = \"\"\"SELECT * FROM School WHERE School_id = ?\"\"\"\n",
        "    cursor.execute(select_query, (school_id,))\n",
        "    record = cursor.fetchone()\n",
        "    close_connection(connection)\n",
        "    return record[1]\n",
        "  except (Exception, sqlite3.Error) as error:\n",
        "    print(\"Ошибка в получении данных по школе \", error)\n",
        "\n",
        "def get_student(school_id):\n",
        "  try:\n",
        "    school_name = get_school_name(school_id)\n",
        "    connection = get_connection()\n",
        "    cursor = connection.cursor()\n",
        "    select_query = \"\"\"SELECT * FROM Student WHERE School_id = ?\"\"\"\n",
        "    cursor.execute(select_query, (school_id,))\n",
        "    records = cursor.fetchall()\n",
        "\n",
        "    print (\"Студент из школы \", school_name)\n",
        "    for row in records:\n",
        "      print(\"ID студента\", row[0])\n",
        "      print(\"Имя студента\", row[1])\n",
        "      print(\"ID школы\", row[2])\n",
        "      print(\"Название школы\", school_name)\n",
        "     \n",
        "    close_connection(connection)\n",
        "  except (Exception, sqlite3.Error) as error:\n",
        "    print(\"Ошибка в получении данных по школе \", error)\n",
        "\n",
        "print(\"Задача 6 \\n\")\n",
        "get_student(1)\n"
      ],
      "metadata": {
        "colab": {
          "base_uri": "https://localhost:8080/"
        },
        "id": "qVq3mYvJA3RK",
        "outputId": "cfa3df17-92f8-43be-9500-070f677c2fa7"
      },
      "execution_count": 1,
      "outputs": [
        {
          "output_type": "stream",
          "name": "stdout",
          "text": [
            "Задача 6 \n",
            "\n",
            "Студент из школы  Протон\n",
            "ID студента 201\n",
            "Имя студента Иван\n",
            "ID школы 1\n",
            "Название школы Протон\n"
          ]
        }
      ]
    }
  ]
}