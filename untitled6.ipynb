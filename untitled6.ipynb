{
  "nbformat": 4,
  "nbformat_minor": 0,
  "metadata": {
    "colab": {
      "provenance": [],
      "authorship_tag": "ABX9TyPJkuC4otbnZp3l8IB6x729",
      "include_colab_link": true
    },
    "kernelspec": {
      "name": "python3",
      "display_name": "Python 3"
    },
    "language_info": {
      "name": "python"
    }
  },
  "cells": [
    {
      "cell_type": "markdown",
      "metadata": {
        "id": "view-in-github",
        "colab_type": "text"
      },
      "source": [
        "<a href=\"https://colab.research.google.com/github/Nadilink/project_01/blob/main/untitled6.ipynb\" target=\"_parent\"><img src=\"https://colab.research.google.com/assets/colab-badge.svg\" alt=\"Open In Colab\"/></a>"
      ]
    },
    {
      "cell_type": "code",
      "execution_count": null,
      "metadata": {
        "id": "8zcIGHr6TD6B"
      },
      "outputs": [],
      "source": [
        "import sqlite3\n",
        "\n",
        "def get_connection():\n",
        "  connection = sqlite3.connect('teatchers.db')\n",
        "  return connection\n",
        "\n",
        "def close_connection(connection):\n",
        "  if connection:\n",
        "    connection.close()\n",
        "\n",
        "def get_student(student_id):\n",
        "  connection = get_connection()\n",
        "  cursor = connection.cursor()\n",
        "  query = \"\"\"SELECT * FROM School JOIN Student ON School.School_Id = Student.School_Id WHERE Student_Id = ?\"\"\"\n",
        "  cursor.execute(query, (student_id,))\n",
        "  records = cursor.fetchall()\n",
        "  connection.close()\n",
        "  print(\"Данные по студенту\")\n",
        "  for row in records:\n",
        "    print(\"ID студ\", row[3])\n",
        "    print(\"Имя\", row[4])\n",
        "    print(\"ID школы\", row[0])\n",
        "    print(\"Название школы\", row[1])\n",
        "\n",
        "get_student(202)"
      ]
    }
  ]
}